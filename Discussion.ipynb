{
  "nbformat": 4,
  "nbformat_minor": 0,
  "metadata": {
    "colab": {
      "name": "Discussion.ipynb",
      "provenance": [],
      "collapsed_sections": [],
      "authorship_tag": "ABX9TyO+fRZvJwHFFURvWegaTK1j",
      "include_colab_link": true
    },
    "kernelspec": {
      "name": "python3",
      "display_name": "Python 3"
    },
    "language_info": {
      "name": "python"
    }
  },
  "cells": [
    {
      "cell_type": "markdown",
      "metadata": {
        "id": "view-in-github",
        "colab_type": "text"
      },
      "source": [
        "<a href=\"https://colab.research.google.com/github/llll121/Introduction-to-ML/blob/main/Discussion.ipynb\" target=\"_parent\"><img src=\"https://colab.research.google.com/assets/colab-badge.svg\" alt=\"Open In Colab\"/></a>"
      ]
    },
    {
      "cell_type": "code",
      "source": [
        "import requests\n",
        "response = requests.get('https://www.python.org')\n",
        "response.content # gives back the page's HTML\n",
        "from bs4 import BeautifulSoup\n",
        "soup = BeautifulSoup(response.content, 'html5lib')\n",
        "text = soup.get_text(strip=True) # text without tags"
      ],
      "metadata": {
        "id": "xhoz_mZkoGYz"
      },
      "execution_count": 1,
      "outputs": []
    },
    {
      "cell_type": "code",
      "source": [
        "import nltk\n",
        "import textblob\n",
        "from nltk.corpus import stopwords\n",
        "\n",
        "blob=textblob.TextBlob(text)\n",
        "stop_words = stopwords.words('english')\n",
        "\n",
        "sentences = blob.sentences\n",
        "words = blob.words\n",
        "noun_phrases = blob.noun_phrases"
      ],
      "metadata": {
        "id": "s32KWyfxx87Q"
      },
      "execution_count": 2,
      "outputs": []
    },
    {
      "cell_type": "code",
      "source": [
        "sentences"
      ],
      "metadata": {
        "colab": {
          "base_uri": "https://localhost:8080/",
          "height": 0
        },
        "id": "LL-ZX2aApLjF",
        "outputId": "22fe18ed-6f7b-4e64-9ac5-3c5e59b05321"
      },
      "execution_count": 3,
      "outputs": [
        {
          "output_type": "execute_result",
          "data": {
            "text/plain": [
              "[Sentence(\"Welcome to Python.org{\n",
              "        \"@context\": \"https://schema.org\",\n",
              "        \"@type\": \"WebSite\",\n",
              "        \"url\": \"https://www.python.org/\",\n",
              "        \"potentialAction\": {\n",
              "          \"@type\": \"SearchAction\",\n",
              "          \"target\": \"https://www.python.org/search/?q={search_term_string}\",\n",
              "          \"query-input\": \"required name=search_term_string\"\n",
              "        }\n",
              "      }var _gaq = _gaq || [];\n",
              "     _gaq.push(['_setAccount', 'UA-39055973-1']);\n",
              "     _gaq.push(['_trackPageview']);\n",
              " \n",
              "     (function() {\n",
              "         var ga = document.createElement('script'); ga.type = 'text/javascript'; ga.async = true;\n",
              "         ga.src = ('https:' == document.location.protocol ?\"),\n",
              " Sentence(\"'https://ssl' : 'http://www') + '.google-analytics.com/ga.js';\n",
              "         var s = document.getElementsByTagName('script')[0]; s.parentNode.insertBefore(ga, s);\n",
              "     })();Notice:While JavaScript is not essential for this website, your interaction with the content will be limited.\"),\n",
              " Sentence(\"Please turn JavaScript on for the full experience.Skip to content▼ClosePythonPSFDocsPyPIJobsCommunity▲The Python NetworkDonate≡MenuSearch This SiteGOAASmallerLargerResetSocializeFacebookTwitterChat on IRCAboutApplicationsQuotesGetting StartedHelpPython BrochureDownloadsAll releasesSource codeWindowsmacOSOther PlatformsLicenseAlternative ImplementationsDocumentationDocsAudio/Visual TalksBeginner's GuideDeveloper's GuideFAQNon-English DocsPEP IndexPython BooksPython EssaysCommunityDiversityMailing ListsIRCForumsPSF Annual Impact ReportPython ConferencesSpecial Interest GroupsPython LogoPython WikiMerchandiseCommunity AwardsCode of ConductGet InvolvedShared StoriesSuccess StoriesArtsBusinessEducationEngineeringGovernmentScientificSoftware DevelopmentNewsPython NewsPSF NewsletterCommunity NewsPSF NewsPyCon NewsEventsPython EventsUser Group EventsPython Events ArchiveUser Group Events ArchiveSubmit an Event>_Launch Interactive Shell# Python 3: Fibonacci series up to n>>> def fib(n):\n",
              " >>>     a, b = 0, 1\n",
              " >>>     while a < n:\n",
              " >>>         print(a, end=' ')\n",
              " >>>         a, b = b, a+b\n",
              " >>>     print()\n",
              " >>> fib(1000)0 1 1 2 3 5 8 13 21 34 55 89 144 233 377 610 987Functions DefinedThe core of extensible programming is defining functions.\"),\n",
              " Sentence(\"Python allows mandatory and optional arguments, keyword arguments, and even arbitrary argument lists.More about defining functions in Python 3# Python 3: List comprehensions>>> fruits = ['Banana', 'Apple', 'Lime']\n",
              " >>> loud_fruits = [fruit.upper() for fruit in fruits]\n",
              " >>> print(loud_fruits)['BANANA', 'APPLE', 'LIME']# List and the enumerate function>>> list(enumerate(fruits))[(0, 'Banana'), (1, 'Apple'), (2, 'Lime')]Compound Data TypesLists (known as arrays in other languages) are one of the compound data types that Python understands.\"),\n",
              " Sentence(\"Lists can be indexed, sliced and manipulated with other built-in functions.More about lists in Python 3# Python 3: Simple arithmetic>>> 1 / 20.5>>> 2 ** 38>>> 17 / 3# classic division returns a float5.666666666666667>>> 17 // 3# floor division5Intuitive InterpretationCalculations are simple with Python, and expression syntax is straightforward: the operators+,-,*and/work as expected; parentheses()can be used for grouping.More about simple math functions in Python 3.# Python 3: Simple output (with Unicode)>>> print(\"Hello, I'm Python!\"),\n",
              " Sentence(\"\")Hello, I'm Python!# Input, assignment>>> name = input('What is your name?\\n')\n",
              " >>> print('Hi, %s.'\"),\n",
              " Sentence(\"% name)What is your name?\"),\n",
              " Sentence(\"Python\n",
              " Hi, Python.Quick & Easy to LearnExperienced programmers in any other language can pick up Python very quickly, and beginners find the clean syntax and indentation structure easy to learn.Whet your appetitewith our Python 3 overview.# For loop on a list>>> numbers = [2, 4, 6, 8]\n",
              " >>> product = 1\n",
              " >>> for number in numbers:\n",
              " ...    product = product * number\n",
              " ... \n",
              " >>> print('The product is:', product)The product is: 384All the Flow You’d ExpectPython knows the usual control flow statements that other languages speak —if,for,whileandrange— with some of its own twists, of course.More control flow tools in Python 3Python is a programming language that lets you work quicklyand integrate systems more effectively.Learn MoreContribute today to the 𝛑thon PSF Spring Fundraiser and show your love for Python!Donate NowGet StartedWhether you're new to programming or an experienced developer, it's easy to learn and use Python.Start with our Beginner’s GuideDownloadPython source code and installers are available for download for all versions!Latest:Python 3.10.4DocsDocumentation for Python's standard library, along with tutorials and guides, are available online.docs.python.orgJobsLooking for work or have a Python related position that you're trying to hire for?\"),\n",
              " Sentence(\"Ourrelaunched community-run job boardis the place to go.jobs.python.orgLatest NewsMore2022-05-08Python 3.11.0b1 is now available2022-04-21Announcing Python Software Foundation Fellow Members for Q1 2022!\"),\n",
              " Sentence(\"🎉2022-04-07PSF Welcomes New Executive Director Deb Nicholson2022-04-06The last Python 3.11 alpha (3.11.0a7) is available2022-03-24Python 3.10.4 and 3.9.12 are now available out of scheduleUpcoming EventsMore2022-05-21Django Girls Malabo2022-05-21Django Girls Groningen2022-05-26PyCon LT 20222022-06-02PyCon Italy 222022-06-08Python Meeting DüsseldorfSuccess StoriesMoreWhen an Open Data standard is created and promoted, it’s important to think why - what change is this trying to drive?\"),\n",
              " Sentence(\"What will people do with this data that they couldn’t do before?Saving the world with Open Data and Pythonby James BasterUse Python for…MoreWeb Development:Django,Pyramid,Bottle,Tornado,Flask,web2pyGUI Development:tkInter,PyGObject,PyQt,PySide,Kivy,wxPythonScientific and Numeric:SciPy,Pandas,IPythonSoftware Development:Buildbot,Trac,RoundupSystem Administration:Ansible,Salt,OpenStack,xonsh>>>Python Enhancement Proposals(PEPs): The future of Pythonis discussed here.RSS>>>Python Software FoundationThe mission of the Python Software Foundation is to promote, protect, and advance the Python programming language, and to support and facilitate the growth of a diverse and international community of Python programmers.Learn moreBecome a MemberDonate to the PSF▲Back to TopAboutApplicationsQuotesGetting StartedHelpPython BrochureDownloadsAll releasesSource codeWindowsmacOSOther PlatformsLicenseAlternative ImplementationsDocumentationDocsAudio/Visual TalksBeginner's GuideDeveloper's GuideFAQNon-English DocsPEP IndexPython BooksPython EssaysCommunityDiversityMailing ListsIRCForumsPSF Annual Impact ReportPython ConferencesSpecial Interest GroupsPython LogoPython WikiMerchandiseCommunity AwardsCode of ConductGet InvolvedShared StoriesSuccess StoriesArtsBusinessEducationEngineeringGovernmentScientificSoftware DevelopmentNewsPython NewsPSF NewsletterCommunity NewsPSF NewsPyCon NewsEventsPython EventsUser Group EventsPython Events ArchiveUser Group Events ArchiveSubmit an EventContributingDeveloper's GuideIssue Trackerpython-dev listCore MentorshipReport a Security Issue▲Back to TopHelp &GeneralContactDiversityInitiativesSubmit Website BugStatusCopyright ©2001-2022.Python Software FoundationLegal StatementsPrivacy PolicyPowered by Herokuwindow.jQuery || document.write('<script src=\"/static/js/libs/jquery-1.8.2.min.js\"><\\/script>')window.jQuery || document.write('<script src=\"/static/js/libs/jquery-ui-1.12.1.min.js\"><\\/script>')\")]"
            ]
          },
          "metadata": {},
          "execution_count": 3
        }
      ]
    },
    {
      "cell_type": "code",
      "source": [
        "words"
      ],
      "metadata": {
        "colab": {
          "base_uri": "https://localhost:8080/",
          "height": 0
        },
        "id": "kXf3cpJopO1n",
        "outputId": "e2308716-7e8b-44ad-d859-fe7a7b28f392"
      },
      "execution_count": 4,
      "outputs": [
        {
          "output_type": "execute_result",
          "data": {
            "text/plain": [
              "WordList(['Welcome', 'to', 'Python.org', 'context', 'https', 'schema.org', 'type', 'WebSite', 'url', 'https', 'www.python.org', 'potentialAction', 'type', 'SearchAction', 'target', 'https', 'www.python.org/search', 'q', 'search_term_string', 'query-input', 'required', 'name=search_term_string', 'var', 'gaq', 'gaq', 'gaq.push', \"'_setAccount\", \"'UA-39055973-1\", 'gaq.push', \"'_trackPageview\", 'function', 'var', 'ga', 'document.createElement', \"'script\", 'ga.type', \"'text/javascript\", 'ga.async', 'true', 'ga.src', \"'https\", 'document.location.protocol', \"'https\", 'ssl', \"'http\", 'www', \"'.google-analytics.com/ga.js\", 'var', 's', 'document.getElementsByTagName', \"'script\", '0', 's.parentNode.insertBefore', 'ga', 's', 'Notice', 'While', 'JavaScript', 'is', 'not', 'essential', 'for', 'this', 'website', 'your', 'interaction', 'with', 'the', 'content', 'will', 'be', 'limited', 'Please', 'turn', 'JavaScript', 'on', 'for', 'the', 'full', 'experience.Skip', 'to', 'content▼ClosePythonPSFDocsPyPIJobsCommunity▲The', 'Python', 'NetworkDonate≡MenuSearch', 'This', 'SiteGOAASmallerLargerResetSocializeFacebookTwitterChat', 'on', 'IRCAboutApplicationsQuotesGetting', 'StartedHelpPython', 'BrochureDownloadsAll', 'releasesSource', 'codeWindowsmacOSOther', 'PlatformsLicenseAlternative', 'ImplementationsDocumentationDocsAudio/Visual', 'TalksBeginner', \"'s\", 'GuideDeveloper', \"'s\", 'GuideFAQNon-English', 'DocsPEP', 'IndexPython', 'BooksPython', 'EssaysCommunityDiversityMailing', 'ListsIRCForumsPSF', 'Annual', 'Impact', 'ReportPython', 'ConferencesSpecial', 'Interest', 'GroupsPython', 'LogoPython', 'WikiMerchandiseCommunity', 'AwardsCode', 'of', 'ConductGet', 'InvolvedShared', 'StoriesSuccess', 'StoriesArtsBusinessEducationEngineeringGovernmentScientificSoftware', 'DevelopmentNewsPython', 'NewsPSF', 'NewsletterCommunity', 'NewsPSF', 'NewsPyCon', 'NewsEventsPython', 'EventsUser', 'Group', 'EventsPython', 'Events', 'ArchiveUser', 'Group', 'Events', 'ArchiveSubmit', 'an', 'Event', 'Launch', 'Interactive', 'Shell', 'Python', '3', 'Fibonacci', 'series', 'up', 'to', 'n', 'def', 'fib', 'n', 'a', 'b', '0', '1', 'while', 'a', 'n', 'print', 'a', 'end', 'a', 'b', 'b', 'a+b', 'print', 'fib', '1000', '0', '1', '1', '2', '3', '5', '8', '13', '21', '34', '55', '89', '144', '233', '377', '610', '987Functions', 'DefinedThe', 'core', 'of', 'extensible', 'programming', 'is', 'defining', 'functions', 'Python', 'allows', 'mandatory', 'and', 'optional', 'arguments', 'keyword', 'arguments', 'and', 'even', 'arbitrary', 'argument', 'lists.More', 'about', 'defining', 'functions', 'in', 'Python', '3', 'Python', '3', 'List', 'comprehensions', 'fruits', \"'Banana\", \"'Apple\", \"'Lime\", 'loud_fruits', 'fruit.upper', 'for', 'fruit', 'in', 'fruits', 'print', 'loud_fruits', \"'BANANA\", \"'APPLE\", \"'LIME\", 'List', 'and', 'the', 'enumerate', 'function', 'list', 'enumerate', 'fruits', '0', \"'Banana\", '1', \"'Apple\", '2', \"'Lime\", 'Compound', 'Data', 'TypesLists', 'known', 'as', 'arrays', 'in', 'other', 'languages', 'are', 'one', 'of', 'the', 'compound', 'data', 'types', 'that', 'Python', 'understands', 'Lists', 'can', 'be', 'indexed', 'sliced', 'and', 'manipulated', 'with', 'other', 'built-in', 'functions.More', 'about', 'lists', 'in', 'Python', '3', 'Python', '3', 'Simple', 'arithmetic', '1', '20.5', '2', '38', '17', '3', 'classic', 'division', 'returns', 'a', 'float5.666666666666667', '17', '3', 'floor', 'division5Intuitive', 'InterpretationCalculations', 'are', 'simple', 'with', 'Python', 'and', 'expression', 'syntax', 'is', 'straightforward', 'the', 'operators', 'and/work', 'as', 'expected', 'parentheses', 'can', 'be', 'used', 'for', 'grouping.More', 'about', 'simple', 'math', 'functions', 'in', 'Python', '3', 'Python', '3', 'Simple', 'output', 'with', 'Unicode', 'print', 'Hello', 'I', \"'m\", 'Python', 'Hello', 'I', \"'m\", 'Python', 'Input', 'assignment', 'name', 'input', \"'What\", 'is', 'your', 'name', 'n', 'print', \"'Hi\", 's', 'name', 'What', 'is', 'your', 'name', 'Python', 'Hi', 'Python.Quick', 'Easy', 'to', 'LearnExperienced', 'programmers', 'in', 'any', 'other', 'language', 'can', 'pick', 'up', 'Python', 'very', 'quickly', 'and', 'beginners', 'find', 'the', 'clean', 'syntax', 'and', 'indentation', 'structure', 'easy', 'to', 'learn.Whet', 'your', 'appetitewith', 'our', 'Python', '3', 'overview', 'For', 'loop', 'on', 'a', 'list', 'numbers', '2', '4', '6', '8', 'product', '1', 'for', 'number', 'in', 'numbers', 'product', 'product', 'number', 'print', \"'The\", 'product', 'is', 'product', 'The', 'product', 'is', '384All', 'the', 'Flow', 'You', '’', 'd', 'ExpectPython', 'knows', 'the', 'usual', 'control', 'flow', 'statements', 'that', 'other', 'languages', 'speak', '—if', 'for', 'whileandrange—', 'with', 'some', 'of', 'its', 'own', 'twists', 'of', 'course.More', 'control', 'flow', 'tools', 'in', 'Python', '3Python', 'is', 'a', 'programming', 'language', 'that', 'lets', 'you', 'work', 'quicklyand', 'integrate', 'systems', 'more', 'effectively.Learn', 'MoreContribute', 'today', 'to', 'the', '𝛑thon', 'PSF', 'Spring', 'Fundraiser', 'and', 'show', 'your', 'love', 'for', 'Python', 'Donate', 'NowGet', 'StartedWhether', 'you', \"'re\", 'new', 'to', 'programming', 'or', 'an', 'experienced', 'developer', 'it', \"'s\", 'easy', 'to', 'learn', 'and', 'use', 'Python.Start', 'with', 'our', 'Beginner', '’', 's', 'GuideDownloadPython', 'source', 'code', 'and', 'installers', 'are', 'available', 'for', 'download', 'for', 'all', 'versions', 'Latest', 'Python', '3.10.4DocsDocumentation', 'for', 'Python', \"'s\", 'standard', 'library', 'along', 'with', 'tutorials', 'and', 'guides', 'are', 'available', 'online.docs.python.orgJobsLooking', 'for', 'work', 'or', 'have', 'a', 'Python', 'related', 'position', 'that', 'you', \"'re\", 'trying', 'to', 'hire', 'for', 'Ourrelaunched', 'community-run', 'job', 'boardis', 'the', 'place', 'to', 'go.jobs.python.orgLatest', 'NewsMore2022-05-08Python', '3.11.0b1', 'is', 'now', 'available2022-04-21Announcing', 'Python', 'Software', 'Foundation', 'Fellow', 'Members', 'for', 'Q1', '2022', '🎉2022-04-07PSF', 'Welcomes', 'New', 'Executive', 'Director', 'Deb', 'Nicholson2022-04-06The', 'last', 'Python', '3.11', 'alpha', '3.11.0a7', 'is', 'available2022-03-24Python', '3.10.4', 'and', '3.9.12', 'are', 'now', 'available', 'out', 'of', 'scheduleUpcoming', 'EventsMore2022-05-21Django', 'Girls', 'Malabo2022-05-21Django', 'Girls', 'Groningen2022-05-26PyCon', 'LT', '20222022-06-02PyCon', 'Italy', '222022-06-08Python', 'Meeting', 'DüsseldorfSuccess', 'StoriesMoreWhen', 'an', 'Open', 'Data', 'standard', 'is', 'created', 'and', 'promoted', 'it', '’', 's', 'important', 'to', 'think', 'why', 'what', 'change', 'is', 'this', 'trying', 'to', 'drive', 'What', 'will', 'people', 'do', 'with', 'this', 'data', 'that', 'they', 'couldn', '’', 't', 'do', 'before', 'Saving', 'the', 'world', 'with', 'Open', 'Data', 'and', 'Pythonby', 'James', 'BasterUse', 'Python', 'for…MoreWeb', 'Development', 'Django', 'Pyramid', 'Bottle', 'Tornado', 'Flask', 'web2pyGUI', 'Development', 'tkInter', 'PyGObject', 'PyQt', 'PySide', 'Kivy', 'wxPythonScientific', 'and', 'Numeric', 'SciPy', 'Pandas', 'IPythonSoftware', 'Development', 'Buildbot', 'Trac', 'RoundupSystem', 'Administration', 'Ansible', 'Salt', 'OpenStack', 'xonsh', 'Python', 'Enhancement', 'Proposals', 'PEPs', 'The', 'future', 'of', 'Pythonis', 'discussed', 'here.RSS', 'Python', 'Software', 'FoundationThe', 'mission', 'of', 'the', 'Python', 'Software', 'Foundation', 'is', 'to', 'promote', 'protect', 'and', 'advance', 'the', 'Python', 'programming', 'language', 'and', 'to', 'support', 'and', 'facilitate', 'the', 'growth', 'of', 'a', 'diverse', 'and', 'international', 'community', 'of', 'Python', 'programmers.Learn', 'moreBecome', 'a', 'MemberDonate', 'to', 'the', 'PSF▲Back', 'to', 'TopAboutApplicationsQuotesGetting', 'StartedHelpPython', 'BrochureDownloadsAll', 'releasesSource', 'codeWindowsmacOSOther', 'PlatformsLicenseAlternative', 'ImplementationsDocumentationDocsAudio/Visual', 'TalksBeginner', \"'s\", 'GuideDeveloper', \"'s\", 'GuideFAQNon-English', 'DocsPEP', 'IndexPython', 'BooksPython', 'EssaysCommunityDiversityMailing', 'ListsIRCForumsPSF', 'Annual', 'Impact', 'ReportPython', 'ConferencesSpecial', 'Interest', 'GroupsPython', 'LogoPython', 'WikiMerchandiseCommunity', 'AwardsCode', 'of', 'ConductGet', 'InvolvedShared', 'StoriesSuccess', 'StoriesArtsBusinessEducationEngineeringGovernmentScientificSoftware', 'DevelopmentNewsPython', 'NewsPSF', 'NewsletterCommunity', 'NewsPSF', 'NewsPyCon', 'NewsEventsPython', 'EventsUser', 'Group', 'EventsPython', 'Events', 'ArchiveUser', 'Group', 'Events', 'ArchiveSubmit', 'an', 'EventContributingDeveloper', \"'s\", 'GuideIssue', 'Trackerpython-dev', 'listCore', 'MentorshipReport', 'a', 'Security', 'Issue▲Back', 'to', 'TopHelp', 'GeneralContactDiversityInitiativesSubmit', 'Website', 'BugStatusCopyright', '©2001-2022.Python', 'Software', 'FoundationLegal', 'StatementsPrivacy', 'PolicyPowered', 'by', 'Herokuwindow.jQuery', 'document.write', 'script', 'src', 'static/js/libs/jquery-1.8.2.min.js', 'script', 'window.jQuery', 'document.write', 'script', 'src', 'static/js/libs/jquery-ui-1.12.1.min.js', 'script'])"
            ]
          },
          "metadata": {},
          "execution_count": 4
        }
      ]
    },
    {
      "cell_type": "code",
      "source": [
        "noun_phrases"
      ],
      "metadata": {
        "colab": {
          "base_uri": "https://localhost:8080/",
          "height": 0
        },
        "id": "hC4lm_yZpP_U",
        "outputId": "1dc06e7a-a592-49d9-aa19-8a728930a4a3"
      },
      "execution_count": 5,
      "outputs": [
        {
          "output_type": "execute_result",
          "data": {
            "text/plain": [
              "WordList(['welcome', 'python.org', '@ context', '@ type', 'website', '@ type', 'searchaction', 'q= {', '} } var _gaq = _gaq || [ ]', \"[ '_setaccount\", \"[ '_trackpageview\", '{ var ga = document.createelement', \"ga.type = 'text/javascript\", 'ga.async =', 'ga.src =', '== document.location.protocol', \"+ '.google-analytics.com/ga.js\", 'var s = document.getelementsbytagname', 'notice', 'javascript', 'please', 'javascript', 'full experience.skip', 'python networkdonate≡menusearch', 'sitegoaasmallerlargerresetsocializefacebooktwitterchat', 'ircaboutapplicationsquotesgetting startedhelppython brochuredownloadsall', 'releasessource codewindowsmacosother', 'platformslicensealternative implementationsdocumentationdocsaudio/visual talksbeginner', 'guidedeveloper', 'guidefaqnon-english docspep indexpython bookspython essayscommunitydiversitymailing listsircforumspsf annual impact reportpython conferencesspecial interest groupspython logopython wikimerchandisecommunity awardscode', 'conductget involvedshared storiessuccess storiesartsbusinesseducationengineeringgovernmentscientificsoftware developmentnewspython newspsf newslettercommunity newspsf newspycon newseventspython eventsuser', 'eventspython events archiveuser', 'events archivesubmit', 'event', '> _launch', 'interactive shell', 'python', 'fibonacci', 'n > > > def fib', '> > >', 'b =', '> > >', '< n', '> > > print', '> > >', 'b = b', 'a+b > > > print', '> > > fib', 'definedthe', 'python', 'optional arguments', 'keyword arguments', 'arbitrary argument lists.more', 'python', 'python', 'list', \"comprehensions > > > fruits = [ 'banana\", '] > > > loud_fruits = [ fruit.upper', 'fruits ] > > > print', \"[ 'banana\", '] #', 'list', 'enumerate function > > > list', 'compound data typeslists', 'compound data types', 'python', 'lists', 'built-in functions.more', 'python', 'python', 'simple', 'arithmetic > > >', '> > >', '> > >', 'classic division returns', 'float5.666666666666667 > > >', '# floor division5intuitive', 'interpretationcalculations', 'python', 'expression syntax', 'simple math functions', 'python', '3. #', 'python', 'simple', 'unicode', '> > > print', 'hello', 'python', 'hello', 'python', 'input', 'assignment > > > name = input', '> > > print', '% s', '% name', 'python hi', 'python.quick', 'easy', 'learnexperienced', 'python', 'clean syntax', 'indentation structure', 'python', 'overview. #', 'list > > > numbers = [', '] > > > product =', '> > >', '... product = product * number ... > > > print', \"'the product\", 'flow', '’ d', 'expectpython', 'usual control flow statements', 'own twists', 'course.more control flow tools', 'python', 'morecontribute', 'psf', 'fundraiser', 'python', 'donate nowget startedwhether', 'python.start', 'beginner', '’ s', 'guidedownloadpython', 'source code', 'latest', 'python', 'python', 'standard library', 'python', 'ourrelaunched', 'community-run job boardis', 'newsmore2022-05-08python', 'python software', 'fellow', 'q1', 'welcomes', 'new executive director', 'deb nicholson2022-04-06the', 'python', 'available2022-03-24python 3.10.4', 'eventsmore2022-05-21django girls malabo2022-05-21django girls groningen2022-05-26pycon lt', 'italy', 'meeting düsseldorfsuccess storiesmorewhen', 'data', '’ s', 'couldn ’ t', 'saving', 'data', 'pythonby james basteruse python', 'for…moreweb development', 'django', 'pyramid', 'bottle', 'tornado', 'flask', 'web2pygui development', 'pygobject', 'pyqt', 'pyside', 'kivy', 'numeric', 'scipy', 'pandas', 'ipythonsoftware', 'buildbot', 'trac', 'roundupsystem', 'ansible', 'openstack', 'xonsh > > >', 'python enhancement proposals', 'peps', 'pythonis', 'here.rss > > >', 'python software foundationthe', 'python software', 'python', 'international community', 'python', 'programmers.learn morebecome', 'memberdonate', 'psf▲back', 'topaboutapplicationsquotesgetting startedhelppython brochuredownloadsall', 'releasessource codewindowsmacosother', 'platformslicensealternative implementationsdocumentationdocsaudio/visual talksbeginner', 'guidedeveloper', 'guidefaqnon-english docspep indexpython bookspython essayscommunitydiversitymailing listsircforumspsf annual impact reportpython conferencesspecial interest groupspython logopython wikimerchandisecommunity awardscode', 'conductget involvedshared storiessuccess storiesartsbusinesseducationengineeringgovernmentscientificsoftware developmentnewspython newspsf newslettercommunity newspsf newspycon newseventspython eventsuser', 'eventspython events archiveuser', 'events archivesubmit', 'eventcontributingdeveloper', 'guideissue trackerpython-dev', 'mentorshipreport', 'issue▲back', 'tophelp', 'generalcontactdiversityinitiativessubmit website bugstatuscopyright', 'software foundationlegal statementsprivacy policypowered', 'herokuwindow.jquery', '|| document.write', '< script src=', '> < \\\\/script >', 'window.jquery || document.write', '< script src=', '> < \\\\/script >'])"
            ]
          },
          "metadata": {},
          "execution_count": 5
        }
      ]
    }
  ]
}