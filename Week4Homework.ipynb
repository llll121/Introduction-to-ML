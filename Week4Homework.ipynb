{
  "nbformat": 4,
  "nbformat_minor": 0,
  "metadata": {
    "colab": {
      "name": "Week4Homework.ipynb",
      "provenance": [],
      "authorship_tag": "ABX9TyNvT/uJj75S/Xf5oKFEO5J1",
      "include_colab_link": true
    },
    "kernelspec": {
      "name": "python3",
      "display_name": "Python 3"
    },
    "language_info": {
      "name": "python"
    }
  },
  "cells": [
    {
      "cell_type": "markdown",
      "metadata": {
        "id": "view-in-github",
        "colab_type": "text"
      },
      "source": [
        "<a href=\"https://colab.research.google.com/github/llll121/Introduction-to-ML/blob/main/Week4Homework.ipynb\" target=\"_parent\"><img src=\"https://colab.research.google.com/assets/colab-badge.svg\" alt=\"Open In Colab\"/></a>"
      ]
    },
    {
      "cell_type": "code",
      "execution_count": 1,
      "metadata": {
        "id": "n6fclFPJccWP"
      },
      "outputs": [],
      "source": [
        "import numpy as np\n",
        "import pandas as pd\n",
        "import matplotlib.pyplot as plt\n",
        "import seaborn as sns\n",
        "\n",
        "from sklearn.datasets import load_breast_cancer\n",
        "from sklearn.model_selection import train_test_split, cross_val_score, GridSearchCV, KFold\n",
        "from sklearn.preprocessing import StandardScaler\n",
        "from sklearn.metrics import confusion_matrix, classification_report\n",
        "\n",
        "from sklearn.linear_model import LogisticRegression\n",
        "from sklearn.neighbors import KNeighborsClassifier\n",
        "from sklearn.naive_bayes import GaussianNB\n",
        "from sklearn.svm import SVC"
      ]
    },
    {
      "cell_type": "markdown",
      "source": [
        "## 1. Loading the Dataset "
      ],
      "metadata": {
        "id": "UBGJ7a_XnPjP"
      }
    },
    {
      "cell_type": "code",
      "source": [
        "breast_canser = load_breast_cancer()\n",
        "# print(breast_canser.DESCR)"
      ],
      "metadata": {
        "id": "7pPE6s-Ed0tB"
      },
      "execution_count": 2,
      "outputs": []
    },
    {
      "cell_type": "markdown",
      "source": [
        "## 2. Checking the Sample and Target Sizes"
      ],
      "metadata": {
        "id": "C5ZFIl-InUEv"
      }
    },
    {
      "cell_type": "code",
      "source": [
        "print(breast_canser.data.shape)\n",
        "print(breast_canser.target.shape)"
      ],
      "metadata": {
        "colab": {
          "base_uri": "https://localhost:8080/",
          "height": 0
        },
        "id": "m-hDOw7tnVLd",
        "outputId": "a84b1ce3-7ef9-482b-d75e-8909241a678f"
      },
      "execution_count": 3,
      "outputs": [
        {
          "output_type": "stream",
          "name": "stdout",
          "text": [
            "(569, 30)\n",
            "(569,)\n"
          ]
        }
      ]
    },
    {
      "cell_type": "markdown",
      "source": [
        "## 3. Splitting the Data for Training and Testing"
      ],
      "metadata": {
        "id": "wTlOFXjvnY9C"
      }
    },
    {
      "cell_type": "code",
      "source": [
        "breast_canser_df = pd.DataFrame(breast_canser.data,\n",
        "                                columns=breast_canser.feature_names)\n",
        "breast_canser_df['type'] = pd.Series(breast_canser.target)"
      ],
      "metadata": {
        "id": "pSkrLdFAeUSz"
      },
      "execution_count": 4,
      "outputs": []
    },
    {
      "cell_type": "code",
      "source": [
        "X = breast_canser_df.iloc[:,:30]\n",
        "y = breast_canser_df.iloc[:,-1]\n",
        "X_train, X_test, y_train, y_test = train_test_split(X, y, test_size=0.2, random_state=5)"
      ],
      "metadata": {
        "id": "do1VBrtofU3Z"
      },
      "execution_count": 5,
      "outputs": []
    },
    {
      "cell_type": "markdown",
      "source": [
        "## 4. Training and Testing Set Sizes (Feature scaling)"
      ],
      "metadata": {
        "id": "NuqudJoOnqVh"
      }
    },
    {
      "cell_type": "code",
      "source": [
        "sc_X = StandardScaler()\n",
        "X_train = sc_X.fit_transform(X_train)\n",
        "X_test = sc_X.transform(X_test)"
      ],
      "metadata": {
        "id": "0CfBBt2cgCol"
      },
      "execution_count": 6,
      "outputs": []
    },
    {
      "cell_type": "markdown",
      "source": [
        "## 5 Creating the Model"
      ],
      "metadata": {
        "id": "-YOASSqYwnkN"
      }
    },
    {
      "cell_type": "code",
      "source": [
        "classifier = GaussianNB()"
      ],
      "metadata": {
        "id": "B30H1h5cwtuT"
      },
      "execution_count": 7,
      "outputs": []
    },
    {
      "cell_type": "markdown",
      "source": [
        "## 6 Training the Model with NB"
      ],
      "metadata": {
        "id": "jA17cdi6xQbN"
      }
    },
    {
      "cell_type": "code",
      "source": [
        "classifier.fit(X_train,y_train)"
      ],
      "metadata": {
        "colab": {
          "base_uri": "https://localhost:8080/",
          "height": 0
        },
        "id": "UtVXlSkGxUBa",
        "outputId": "4362574f-5acb-489c-b879-dd10555374af"
      },
      "execution_count": 8,
      "outputs": [
        {
          "output_type": "execute_result",
          "data": {
            "text/plain": [
              "GaussianNB()"
            ]
          },
          "metadata": {},
          "execution_count": 8
        }
      ]
    },
    {
      "cell_type": "markdown",
      "source": [
        "## 7. Predicting"
      ],
      "metadata": {
        "id": "xBLKZuauoZD3"
      }
    },
    {
      "cell_type": "code",
      "source": [
        "y_pred = classifier.predict(X_test)"
      ],
      "metadata": {
        "id": "wE2EpQTxllNU"
      },
      "execution_count": 9,
      "outputs": []
    },
    {
      "cell_type": "markdown",
      "source": [
        "## 8. Estimator Method score"
      ],
      "metadata": {
        "id": "YgUFnWOiocv_"
      }
    },
    {
      "cell_type": "code",
      "source": [
        "print(f'{classifier.score(X_test, y_test):.2%}')"
      ],
      "metadata": {
        "colab": {
          "base_uri": "https://localhost:8080/",
          "height": 0
        },
        "id": "7Vx7FEQTohjT",
        "outputId": "f5a09731-3fc5-4fe9-d934-de83ed562dc0"
      },
      "execution_count": 10,
      "outputs": [
        {
          "output_type": "stream",
          "name": "stdout",
          "text": [
            "93.86%\n"
          ]
        }
      ]
    },
    {
      "cell_type": "markdown",
      "source": [
        "## 9. Confusion Matrix"
      ],
      "metadata": {
        "id": "EmmUmYV5oqeR"
      }
    },
    {
      "cell_type": "code",
      "source": [
        "cm = confusion_matrix(y_test, y_pred)\n",
        "print(cm)"
      ],
      "metadata": {
        "colab": {
          "base_uri": "https://localhost:8080/",
          "height": 0
        },
        "id": "eJRzip8tlpYR",
        "outputId": "dffd01a7-d2bb-476a-81de-c56175b9dbd8"
      },
      "execution_count": 11,
      "outputs": [
        {
          "output_type": "stream",
          "name": "stdout",
          "text": [
            "[[44  4]\n",
            " [ 3 63]]\n"
          ]
        }
      ]
    },
    {
      "cell_type": "markdown",
      "source": [
        "## 10. Classification Report"
      ],
      "metadata": {
        "id": "vSB9USKQovl2"
      }
    },
    {
      "cell_type": "code",
      "source": [
        "target_names = ['benign','malignant']\n",
        "print(classification_report(y_test, y_pred, target_names=target_names))"
      ],
      "metadata": {
        "colab": {
          "base_uri": "https://localhost:8080/",
          "height": 0
        },
        "id": "yQWFSC1QozdK",
        "outputId": "1fb76c49-83f6-4f3a-bc1e-805e6b97b18b"
      },
      "execution_count": 12,
      "outputs": [
        {
          "output_type": "stream",
          "name": "stdout",
          "text": [
            "              precision    recall  f1-score   support\n",
            "\n",
            "      benign       0.94      0.92      0.93        48\n",
            "   malignant       0.94      0.95      0.95        66\n",
            "\n",
            "    accuracy                           0.94       114\n",
            "   macro avg       0.94      0.94      0.94       114\n",
            "weighted avg       0.94      0.94      0.94       114\n",
            "\n"
          ]
        }
      ]
    },
    {
      "cell_type": "markdown",
      "source": [
        "## 11. Visualizing the Confusion Matrix"
      ],
      "metadata": {
        "id": "KXGoxBXUqnQ-"
      }
    },
    {
      "cell_type": "code",
      "source": [
        "confusion_df = pd.DataFrame(cm, index=range(2),columns=range(2))\n",
        "axes = sns.heatmap(confusion_df, annot=True, cmap='nipy_spectral_r')"
      ],
      "metadata": {
        "colab": {
          "base_uri": "https://localhost:8080/",
          "height": 265
        },
        "id": "6KLbS5qlqU5U",
        "outputId": "9d7e87e2-5a64-4771-ac5a-80d605cc64bb"
      },
      "execution_count": 13,
      "outputs": [
        {
          "output_type": "display_data",
          "data": {
            "text/plain": [
              "<Figure size 432x288 with 2 Axes>"
            ],
            "image/png": "[encoded data removed]"
          },
          "metadata": {
            "needs_background": "light"
          }
        }
      ]
    },
    {
      "cell_type": "markdown",
      "source": [
        "## 12. Running Multiple Models to Find the Best One:   \n",
        "## +\n",
        "## Using the KFold Object with Function cross_val_score: "
      ],
      "metadata": {
        "id": "dyFyWSWVthcN"
      }
    },
    {
      "cell_type": "code",
      "source": [
        "estimators = {'GaussianNB': GaussianNB(),\n",
        "    'KNeighborsClassifier': KNeighborsClassifier(n_neighbors=10, p=2, metric='euclidean'), \n",
        "    'LogisticRegression': LogisticRegression(solver='lbfgs', multi_class='ovr', max_iter=10000),\n",
        "    'SVC': SVC(gamma='scale')}"
      ],
      "metadata": {
        "id": "caG7aIt7trfp"
      },
      "execution_count": 14,
      "outputs": []
    },
    {
      "cell_type": "code",
      "source": [
        "for estimator_name, estimator_object in estimators.items():\n",
        "    kfold = KFold(n_splits=10, random_state=11, shuffle=True)\n",
        "    scores = cross_val_score(estimator=estimator_object,\n",
        "                             X=X, \n",
        "                             y=y,\n",
        "                             cv=kfold)\n",
        "    \n",
        "    print(f'{estimator_name:>20}: ' +\n",
        "          f'mean of r2 scores={scores.mean():.3f}')"
      ],
      "metadata": {
        "colab": {
          "base_uri": "https://localhost:8080/",
          "height": 0
        },
        "id": "RTgJL6wyvFF4",
        "outputId": "b0a73e34-5df9-4d13-8c9c-80c3f10d94d2"
      },
      "execution_count": 15,
      "outputs": [
        {
          "output_type": "stream",
          "name": "stdout",
          "text": [
            "          GaussianNB: mean of r2 scores=0.938\n",
            "KNeighborsClassifier: mean of r2 scores=0.935\n",
            "  LogisticRegression: mean of r2 scores=0.951\n",
            "                 SVC: mean of r2 scores=0.919\n"
          ]
        }
      ]
    }
  ]
}